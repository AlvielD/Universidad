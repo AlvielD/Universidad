{
 "cells": [
  {
   "cell_type": "code",
   "execution_count": 1,
   "id": "8dc9934b",
   "metadata": {},
   "outputs": [],
   "source": [
    "# Required packages:\n",
    "from typing import Any, List, Tuple, Union\n",
    "from numpy import ndarray\n",
    "\n",
    "# For preprocessing text\n",
    "import string\n",
    "import re\n",
    "from nltk.corpus import stopwords\n",
    "\n",
    "# For training the model\n",
    "from sklearn.feature_extraction.text import CountVectorizer\n",
    "from sklearn.feature_extraction.text import TfidfTransformer\n",
    "from sklearn.naive_bayes import MultinomialNB\n",
    "from sklearn.pipeline import Pipeline\n",
    "\n",
    "# For evaluating the model\n",
    "from sklearn import metrics"
   ]
  },
  {
   "cell_type": "code",
   "execution_count": 21,
   "id": "a9e7dcc2",
   "metadata": {},
   "outputs": [],
   "source": [
    "def load_data(path: str) -> Tuple[List[str], List[str]]:\n",
    "    \"\"\"Loads data from file. Each except first (header) is a datapoint\n",
    "    containing ID, Label, Email (content) separated by \"\\t\".\n",
    "\n",
    "    Args:\n",
    "        path: Path to file from which to load data\n",
    "\n",
    "    Returns:\n",
    "        List of email contents and a list of labels coresponding to each email.\n",
    "    \"\"\"\n",
    "\n",
    "    emails = []\n",
    "    labels = []\n",
    "\n",
    "    with open (path, \"r\", encoding=\"mbcs\") as file:\n",
    "        data = file.readlines()\n",
    "        for line in data[1:]:\n",
    "            line = line.split(\"\\t\")     # Split the line by withespaces\n",
    "            if line[2][0] == '\"':\n",
    "                line[2] = line[2][1:-2] \n",
    "            emails.append(line[2])      # Append the content of the email\n",
    "\n",
    "            # If the label is \"spam\" --> append 1, else append 0\n",
    "            if line[1] == \"spam\":\n",
    "                labels.append(1)\n",
    "            else:\n",
    "                labels.append(0)\n",
    "\n",
    "    return emails, labels"
   ]
  },
  {
   "cell_type": "code",
   "execution_count": 3,
   "id": "4b9bca42",
   "metadata": {},
   "outputs": [],
   "source": [
    "def preprocess(doc: str) -> str:\n",
    "    \"\"\"Preprocesses text to prepare it for feature extraction.\n",
    "\n",
    "    Args:\n",
    "        doc: String comprising the unprocessed contents of some email file.\n",
    "\n",
    "    Returns:\n",
    "        String comprising the corresponding preprocessed text.\n",
    "    \"\"\"\n",
    "    \n",
    "    ## TOKENIZATION ##\n",
    "\n",
    "    # Replace punctuation marks with spaces using regular expresion\n",
    "    # First, turn to lowercase so we can replace with the same regex\n",
    "    # ^ --> not\n",
    "    # a-z all letter from a to z\n",
    "    # 0-9 all numbers from 0 to 9\n",
    "    doc = doc.lower()\n",
    "    doc = re.sub(\"[^a-z0-9]\", \" \", doc)\n",
    "    \n",
    "    # Split by whitespaces and turn to lowercase.\n",
    "    doc = doc.split()\n",
    "\n",
    "\n",
    "    ## STOPWORD REMOVAL ##\n",
    "\n",
    "    stop_words = stopwords.words(\"english\")\n",
    "    doc = [word for word in doc if word not in stop_words]\n",
    "    \n",
    "    return \" \".join(doc)"
   ]
  },
  {
   "cell_type": "code",
   "execution_count": 17,
   "id": "7459abc6",
   "metadata": {},
   "outputs": [],
   "source": [
    "def preprocess_multiple(docs: List[str]) -> List[str]:\n",
    "    \"\"\"Preprocesses multiple texts to prepare them for feature extraction.\n",
    "\n",
    "    Args:\n",
    "        docs: List of strings, each consisting of the unprocessed contents\n",
    "            of some email file.\n",
    "\n",
    "    Returns:\n",
    "        List of strings, each comprising the corresponding preprocessed\n",
    "            text.\n",
    "    \"\"\"\n",
    "    \n",
    "    preprocessed_docs = []\n",
    "    \n",
    "    for doc in docs:\n",
    "        preprocessed_docs.append(preprocess(doc))\n",
    "    \n",
    "    return preprocessed_docs"
   ]
  },
  {
   "cell_type": "code",
   "execution_count": 11,
   "id": "c512bc4c",
   "metadata": {},
   "outputs": [],
   "source": [
    "def extract_features(\n",
    "    train_dataset: List[str], test_dataset: List[str]\n",
    ") -> Tuple[ndarray, ndarray]:\n",
    "    \"\"\"Extracts feature vectors from a preprocessed train and test datasets.\n",
    "\n",
    "    Args:\n",
    "        train_dataset: List of strings, each consisting of the preprocessed\n",
    "            email content.\n",
    "        test_dataset: List of strings, each consisting of the preprocessed\n",
    "            email content.\n",
    "\n",
    "    Returns:\n",
    "\n",
    "    \"\"\"\n",
    "    ## EXTRACT VOCABULARY ##\n",
    "    #vocabulary = set()\n",
    "\n",
    "    #for doc in train_dataset:\n",
    "    #    vocabulary |= set(doc.split())\n",
    "\n",
    "    #vocabulary = list(vocabulary)\n",
    "\n",
    "\n",
    "    # Try to use the CountVectorizer class of the sklearn library\n",
    "    count_vect = CountVectorizer()\n",
    "\n",
    "    ## CREATION OF THE DOCUMENT-TERM MATRIX ##\n",
    "    train_doc_term_matrix = count_vect.fit_transform(train_dataset)\n",
    "\n",
    "    #for i in range(len(vocabulary)):\n",
    "    #    for j in range(len(train_dataset)):\n",
    "    #        train_doc_term_matrix[j][i] = doc.split().count(vocabulary[i])\n",
    "\n",
    "    # We need to do the same for the document-term matrix of the test split\n",
    "    #test_doc_term_matrix = ndarray(shape=(len(test_dataset), len(vocabulary)), dtype=int)\n",
    "    test_doc_term_matrix = count_vect.transform(test_dataset)\n",
    "\n",
    "    #for i in range(len(vocabulary)):\n",
    "    #    for j in range(len(test_dataset)):\n",
    "    #        test_doc_term_matrix[j][i] = doc.split().count(vocabulary[i])\n",
    "\n",
    "    return tuple((train_doc_term_matrix, test_doc_term_matrix))"
   ]
  },
  {
   "cell_type": "code",
   "execution_count": 12,
   "id": "e6c96820",
   "metadata": {},
   "outputs": [],
   "source": [
    "def train(X: ndarray, y: List[int]) -> object:\n",
    "    \"\"\"Trains a classifier on extracted feature vectors.\n",
    "\n",
    "    Args:\n",
    "        X: Numerical array-like object (2D) representing the instances.\n",
    "        y: Numerical array-like object (1D) representing the labels.\n",
    "\n",
    "    Returns:\n",
    "        A trained model object capable of predicting over unseen sets of\n",
    "            instances.\n",
    "    \"\"\"\n",
    "\n",
    "    # Model pipeline\n",
    "    model = Pipeline([\n",
    "    ('tfidf', TfidfTransformer()),\n",
    "    ('clf', MultinomialNB()),\n",
    "    ])\n",
    "\n",
    "    # Train the model\n",
    "    model.fit(X, y)\n",
    "\n",
    "    return model"
   ]
  },
  {
   "cell_type": "code",
   "execution_count": 13,
   "id": "280faa6c",
   "metadata": {},
   "outputs": [],
   "source": [
    "def evaluate(\n",
    "    y: List[int], y_pred: List[int]\n",
    ") -> Tuple[float, float, float, float]:\n",
    "    \"\"\"Evaluates a model's predictive performance with respect to a labeled\n",
    "    dataset.\n",
    "\n",
    "    Args:\n",
    "        y: Numerical array-like object (1D) representing the true labels.\n",
    "        y_pred: Numerical array-like object (1D) representing the predicted\n",
    "            labels.\n",
    "\n",
    "    Returns:\n",
    "        A tuple of four values: recall, precision, F_1, and accuracy.\n",
    "    \"\"\"\n",
    "\n",
    "    rec = metrics.recall_score(y, y_pred)\n",
    "    prec = metrics.precision_score(y, y_pred)\n",
    "    f1 = metrics.f1_score(y, y_pred)\n",
    "    acc = metrics.accuracy_score(y, y_pred)\n",
    "\n",
    "    return rec, prec, f1, acc\n"
   ]
  },
  {
   "cell_type": "code",
   "execution_count": 22,
   "id": "ba666a74",
   "metadata": {},
   "outputs": [
    {
     "name": "stdout",
     "output_type": "stream",
     "text": [
      "Loading data...\n",
      "Data loaded\n",
      "Received: from NAHOU-MSMBX01V ([192.168.110.39]) by NAHOU-MSMBX05V.corp.enron.com with Microsoft SMTPSVC(5.0.2195.1600); Fri, 29 Jun 2001 08:36:10 -0500 X-MimeOLE: Produced By Microsoft Exchange V6.0.4418.65 content-class: urn:content-classes:message Subject: FW: June 29 -- BNA, Inc. Daily Labor Report MIME-Version: 1.0 Content-Type: text/plain; Content-Transfer-Encoding: binary Date: Fri, 29 Jun 2001 08:36:09 -0500 Message-ID: <77DA52C3FD86904D8209C9750CD310B9C79BB3@NAHOU-MSMBX01V.corp.enron.com> X-MS-Has-Attach: X-MS-TNEF-Correlator: <77DA52C3FD86904D8209C9750CD310B9C79BB3@NAHOU-MSMBX01V.corp.enron.com> Thread-Topic: June 29 -- BNA, Inc. Daily Labor Report Thread-Index: AcEAUaYbkE2KMWxCEdWxEABQi+MJ2QATr4SA From: \"\"Hu, Sylvia\"\" <Sylvia.Hu@ENRON.com> To: \"\"Acevedo, Felecia\"\" <Felecia.Acevedo@ENRON.com>, \"\"Brown, MeCole\"\" <MeCole.Brown@ENRON.com>, \"\"Cash, Michelle\"\" <Michelle.Cash@ENRON.com>, \"\"Castellano, Bonne\"\" <Bonne.Castellano@ENRON.com>, \"\"Johnson, Rick\"\" <Rick.Johnson@ENRON.com>, \"\"Lynch, Drew\"\" <Drew.C.Lynch@ENRON.com>, \"\"Parker, Gilda\"\" <Gilda.Parker@ENRON.com>, \"\"Sullivan, Kriste\"\" <Kriste.Sullivan@ENRON.com>, \"\"Walker, Simone Scott\"\" <SimoneScott.Walker@ENRON.com>, \"\"White, Bonnie\"\" <Bonnie.White@ENRON.com> Return-Path: Sylvia.Hu@ENRON.com User ID: enrondlr PW: bnaweb22 -----Original Message----- From: \"\"BNA Highlights\"\" <bhighlig@bna.com> Sent: Thursday, June 28, 2001 11:10 PM To: BNA Highlights Subject: June 29 -- BNA, Inc. Daily Labor Report ______________________________ DAILY LABOR REPORT Highlights & Table of Contents June 29, 2001 ______________________________ ISSN 1522-5968 Registered Web subscribers can access the full text of these articles by using the URL link supplied. Information about becoming a subscriber or signing up for a FREE Web trial is available at http://web.bna.com or call BNA Customer Relations at 1-800-372-1033, Mon. - Fri. 8:30 am - 7:00 pm (ET). __________ HIGHLIGHTS __________ D.C. CIRCUIT OVERTURNS NLRB DECISION ON WORKPLACE CONDUCT POLICIES A California firm's two workplace policies barring abusive and threatening language and restricting solicitation and distribution did not constitute unfair labor practices, the District of Columbia Circuit rules, overturning a National Labor Relations Board decision (\"\"Adtranz ABB Daimler-Benz Transp. N.A. Inc. v. NLRB, \"\"D.C. Cir., No. 00-1282, 6/26/01). The board held the workplace conduct policies of Adtranz ABB Daimler-Benz Transportation N.A. Inc. interfered with employees' exercise of their rights under the National Labor Relations Act. The board ordered that a second election be held to determine whether Adtranz employees in Pittsburg, Calif., wanted to be represented by the Machinists Automotive Trade District Lodge 190 of Northern California. The appeals court finds it lacks jurisdiction to consider Adtranz's appeal of the order for a new election, because it is not a final order. The court rejects the board's view that the ban on abusive and threatening language was an unfair labor practice regardless of whether it actually chilled employees' exercise of their rights. Judge Sentelle finds the solicitation-distribution rule is legal because it \"\"only applies to conduct during working time and in the work place\"\" and \"\"applies across the board, so it cannot be said to discriminate against unionization efforts or other protected activity.\"\" . . . Page AA-1, Text E-1 http://pubs.bna.com/ip/BNA/dlr.nsf/id/a0a4j5k3h4_ http://pubs.bna.com/ip/BNA/dlr.nsf/id/a0a4j5e3e4_ WORKPLACE PANIC ATTACKS RENDER EMPLOYEE UNQUALIFIED UNDER ADA A former customer service worker for a Wisconsin power company fired after having panic attacks at work that likely stemmed from a head injury was unable to establish that her discharge was illegal under the Americans with Disabilities Act, the Seventh Circuit rules (\"\"Emerson v. Northern States Power Co., \"\"7th Cir., No. 00-3746, 6/26/01). Loretta M. Emerson failed to show she was a \"\"qualified individual\"\" under the act, given that her anxiety attacks could interfere with her ability to answer customer phone calls about gas or electricity emergencies, Judge Bauer finds, affirming summary judgment to Northern States Power Co. Bauer also finds Emerson posed a direct threat to her employer, because her job \"\"required prompt, accurate handling of emergencies such as gas leaks and downed power lines that could pose significant danger to the public.\"\" . . . Page A-8 http://pubs.bna.com/ip/BNA/dlr.nsf/id/a0a4j5q2p6_ UAN DELEGATES VOTE UNANIMOUSLY TO AFFILIATE WITH AFL-CIO Delegates to the National Labor Assembly of the United American Nurses, the labor arm of the American Nurses Association, unanimously vote to affiliate with the AFL-CIO. If all goes as planned, the affiliation of the 100,000-member union will become effective July 1. However, it appears one more hurdle may need to be cleared before the affiliation, which has been in the works for more than a year, becomes a reality. The ANA House of Delegates is scheduled to vote June 30 on a bylaw change that would require any state nurses' association that engages in collective bargaining to be a member of UAN within four years. This was a condition of the AFL-CIO granting a charter. It is unclear whether the bylaw change will pass, and if it does not what happens to the affiliation agreement. . . . Page B-1 http://pubs.bna.com/ip/BNA/dlr.nsf/id/a0a4j5j7f6_ NEW YORK CITY PARTLY IMMUNE FROM BIAS LAW, COURT FINDS In a case of first impression, a federal trial court overturns a jury's $1 million sexual harassment punitive damages award against New York City because it did not explicitly waive sovereign immunity from punitive damages under the city's human rights ordinance (\"\"Katt v. New York City, \"\"S.D.N.Y., No. 95 Civ. 8283 (GEL), 6/19/01). Rejecting the defendants' other post-verdict motions, however, Judge Lynch of the U.S. District Court for the Southern District of New York upholds the jury's award of $400,000 in compensatory damages. The court rejects the city's affirmative defense that plaintiff Alli Katt failed to take advantage of the New York Police Department's complaint process, finding that she was intimidated into not doing so because of explicit and implicit pressure. The court also rejects the city's late-raised challenge to the timeliness of the complaint. . . . Page A-1 http://pubs.bna.com/ip/BNA/dlr.nsf/id/a0a4j4v7g9_ HOFFA, LEEDHAM NOMINATED AS CANDIDATES FOR TEAMSTERS PRESIDENT In a noisy but orderly session of the International Brotherhood of Teamsters convention June 28, incumbent President James P. Hoffa and challenger Tom Leedham both are nominated for the union's top office. Also nominated are current IBT Secretary-Treasurer Tom Keegel and Leedham running-mate Tom Gilmartin, the head of IBT Local 559 in Connecticut. Delegate voting will occur late June 28 to determine if the candidates received the requisite 5 percent support for their names to be placed on the ballot for the fall election among the union's 1.4 million members. That Hoffa will receive 5 percent of the delegates' votes is a foregone conclusion given his overwhelming support among the more than 1,700 delegates. Voice votes on various resolutions and constitutional amendments appear to show that Leedham has the support of only a few hundred delegates in his second challenge to Hoffa for the union presidency. However, Leedham and members of his campaign appear confident he will get the votes necessary to be placed on the ballot. Other members of Leedham's slate earlier received more votes than necessary to be placed on the ballot. . . . Page C-1 http://pubs.bna.com/ip/BNA/dlr.nsf/id/a0a4j5g8z1_ OSHA READIES MANDATORY EMPLOYER SURVEY FOR DISTRIBUTION The week of July 2 will signal the launch of the Occupational Safety and Health Administration's annual mandatory survey of more than 80,000 employers nationwide to gather injury and illness data to better target high-hazard employers. The agency, however, will not include construction employers in the upcoming survey. The 2001 survey program \"\"improves OSHA's ability to identify and target our efforts on the more hazardous workplaces,\"\" acting OSHA Administrator R. Davis Layne says. The survey requests calendar year 2000 data. OSHA inspections based on the 2000 data will not be launched until January or February of 2002, the OSHA spokesman says. Employers will be asked to supply figures for average employment, hours worked, and a summary of the job-related injuries and illnesses that occurred at their work sites in 2000, the agency says. The surveys must be returned even if a surveyed employer recorded no occupational injuries or illnesses for 2000, the agency says. . . . Page A-1 http://pubs.bna.com/ip/BNA/dlr.nsf/id/a0a4j5h0x6_ ______________ TODAY'S EVENTS ______________ GDP: Second revision of gross domestic product for the first quarter released, 8:30 a.m., Commerce Department. ________________ ALSO IN THE NEWS ________________ LAYOFFS: Reflecting the weakened labor market, both the number of mass layoff events and the number of workers involved were significantly higher during the first five months of this year than in the same period of 2000. The layoff events reported for May alone involved a total of 155,759 workers. . . . Page D-1 http://pubs.bna.com/ip/BNA/dlr.nsf/id/a0a4j5j8p4_ UNEMPLOYMENT INSURANCE: New UI claims filed with state agencies fell for the third consecutive week, down 16,000 to a seasonally adjusted total of 388,000 for the week ended June 23. . . . Page D-6 http://pubs.bna.com/ip/BNA/dlr.nsf/id/a0a4j5h5h2_ HEALTH CARE EMPLOYEES: Several factors are combining to constrain the current supply of nurses in the United States, a key factor being job dissatisfaction, according to the General Accounting Office. . . . Page A-5 http://pubs.bna.com/ip/BNA/dlr.nsf/id/a0a4j5c8p3_ ENTERTAINMENT: Members of six unions representing 25,000 workers at Walt Disney World in Orlando, Fla., are scheduled to vote July 6 on a new three-year contract with the Walt Disney World Co. . . . Page A-6 http://pubs.bna.com/ip/BNA/dlr.nsf/id/a0a4j5m9f3_ ____ TEXT ____ UNFAIR LABOR PRACTICES: District of Columbia Circuit decision in \"\"Adtranz ABB Daimler-Benz Transportation N.A. Inc. v. NLRB. \"\". . . Page E-1 http://pubs.bna.com/ip/BNA/dlr.nsf/id/a0a4j5e3e4_ _________________ TABLE OF CONTENTS _________________ LEADING THE NEWS UNFAIR LABOR PRACTICES Overturning NLRB, D.C. Circuit finds California firm's workplace policies barring abusive and threatening language and restricting solicitation and distribution did not constitute unfair labor practices . . . Page AA-1, Text E-1 http://pubs.bna.com/ip/BNA/dlr.nsf/id/a0a4j5k3h4_ http://pubs.bna.com/ip/BNA/dlr.nsf/id/a0a4j5e3e4_ ____ NEWS ____ DISABILITIES Seventh Circuit rules former customer service worker at Wisconsin power company, fired after having panic attacks at work likely related to head injury, failed to establish she was \"\"qualified individual\"\" under ADA . . . Page A-8 http://pubs.bna.com/ip/BNA/dlr.nsf/id/a0a4j5q2p6_ DISCRIMINATION House Judiciary Committee expects to vote on bill (H.R. 7) that would allow religious organizations to compete for federal grants, including proposed amendment from panel chairman that would narrow ability of such organizations to discriminate in employment . . . Page A-12 http://pubs.bna.com/ip/BNA/dlr.nsf/id/a0a4j5m7q5_ ECONOMIC OUTLOOK UCLA Anderson Forecast finds California facing most troublesome period since early 1990s, predicts sharply lower growth through at least 2002 . . . Page A-3 http://pubs.bna.com/ip/BNA/dlr.nsf/id/a0a4j4m8v2_ ENTERTAINMENT Members of six unions representing 25,000 workers to vote July 6 on new three-year contract with Walt Disney World Co. . . . Page A-6 http://pubs.bna.com/ip/BNA/dlr.nsf/id/a0a4j5m9f3_ HEALTH CARE Senate Democrats prevail on amendment challenges to patients' bill of rights legislation, but prospects for wrapping up work on bill by close of Senate business for night appear dim . . . Page A-10 http://pubs.bna.com/ip/BNA/dlr.nsf/id/a0a4j5v0u5_ HEALTH CARE EMPLOYEES GAO cites job dissatisfaction as top among several factors combining to constrain current supply of nurses in United States . . . Page A-5 http://pubs.bna.com/ip/BNA/dlr.nsf/id/a0a4j5c8p3_ HELP-WANTED ADS Conference Board finds demand for labor declined in May as help-wanted advertising index fell by 5 percentage points from previous month, to 60 percent . . . Page A-5 http://pubs.bna.com/ip/BNA/dlr.nsf/id/a0a4j5j9t7_ SAFETY & HEALTH Official says Labor Department will go forward with Clinton administration rule changing the way some 1.3 million worksites are required to record employee injuries and illnesses . . . Page A-9 http://pubs.bna.com/ip/BNA/dlr.nsf/id/a0a4j5r0g7_ OSHA announces July 2 launch of annual mandatory survey gathering injury and illness data from more than 80,000 employers to better target high-hazard employers . . . Page A-1 http://pubs.bna.com/ip/BNA/dlr.nsf/id/a0a4j5h0x6_ Study finds consequences of feeling overworked can affect employees' job performance and lead to poorer health . . . Page A-6 http://pubs.bna.com/ip/BNA/dlr.nsf/id/a0a4j5n9r1_ SEX DISCRIMINATION Seventh Circuit affirms grant of summary judgment to employer of female manager passed over for promotion and transferred to another facility, finding that she failed to establish similarly situated male was treated more favorably . . . Page A-4 http://pubs.bna.com/ip/BNA/dlr.nsf/id/a0a4j4g0q8_ SEXUAL HARASSMENT Federal judge overturns jury's award of $1 million in punitive damages against New York City because city did not explicitly waive sovereign immunity under human rights ordinance . . . Page A-1 http://pubs.bna.com/ip/BNA/dlr.nsf/id/a0a4j4v7g9_ STEEL Geneva Steel and United Steelworkers reach tentative, one-year contract covering 1,500 workers at company's Vineyard, Utah, mill . . . Page A-13 http://pubs.bna.com/ip/BNA/dlr.nsf/id/a0a4j5g8h7_ TRADE In letter to President Bush, twenty-five House Democrats denounce direction House GOP leadership and administration are taking on trade . . . Page A-7 http://pubs.bna.com/ip/BNA/dlr.nsf/id/a0a4j5q2j2_ WORKFORCE REDUCTIONS John Deere & Co. announces plans to cut salaried workforce in United States by 8 percent, or 1,250 jobs . . . Page A-13 http://pubs.bna.com/ip/BNA/dlr.nsf/id/a0a4j5d1v8_ ______________ SPECIAL REPORT ______________ HEALTH CARE EMPLOYEES Delegates to second annual National Labor Assembly of United American Nurses, labor arm of American Nurses Association, vote unanimously to affiliate with AFL-CIO . . . Page B-1 http://pubs.bna.com/ip/BNA/dlr.nsf/id/a0a4j5j7f6_ _________________ CONVENTION REPORT _________________ TEAMSTERS IBT delegates nominate incumbent President James P. Hoffa and challenger Tom Leedham for union's top office in noisy but orderly session . . . Page C-1 http://pubs.bna.com/ip/BNA/dlr.nsf/id/a0a4j5g8z1_ _____________ ECONOMIC NEWS _____________ LAYOFFS Labor Department's Bureau of Labor Statistics reports both number of mass layoff events and number of workers involved were significantly higher during first five months of this year than during same period last year, reflecting weakened labor market . . . Page D-1 http://pubs.bna.com/ip/BNA/dlr.nsf/id/a0a4j5j8p4_ UNEMPLOYMENT INSURANCE Labor Department's Employment and Training Administration reports new unemployment insurance claims filed with state agencies fell for third consecutive week, down 16,000 to seasonally adjusted total of 388,000 for week ended June 23 . . . Page D-6 http://pubs.bna.com/ip/BNA/dlr.nsf/id/a0a4j5h5h2_ ____ TEXT ____ UNFAIR LABOR PRACTICES District of Columbia Circuit decision in \"\"Adtranz ABB Daimler-Benz Transportation N.A. Inc. v. NLRB\"\" . . . Page E-1 http://pubs.bna.com/ip/BNA/dlr.nsf/id/a0a4j5e3e4_ ______________ TABLE OF CASES ______________ Adtranz ABB Daimler-Benz Transp. N.A. Inc. v. NLRB (D.C. Cir.) . . . Page AA-1, text E-1 http://pubs.bna.com/ip/BNA/dlr.nsf/id/a0a4j5k3h4_ http://pubs.bna.com/ip/BNA/dlr.nsf/id/a0a4j5e3e4_ Emerson v. Northern States Power Co. (7th Cir.) . . . Page A-8 http://pubs.bna.com/ip/BNA/dlr.nsf/id/a0a4j5q2p6_ Hoffman-Dombrowski v. Arlington Int'l Racecourse Inc. (7th Cir.) . . . Page A-4 http://pubs.bna.com/ip/BNA/dlr.nsf/id/a0a4j4g0q8_ Katt v. New York City (S.D.N.Y.) . . . Page A-1 http://pubs.bna.com/ip/BNA/dlr.nsf/id/a0a4j4v7g9_ __________ Daily Labor Report (ISSN 1522-5968) Highlights are published daily by The Bureau of National Affairs, Inc., 1231 25th St., NW, Washington, DC 20037. For account information and changes, contact 1-800-372-1033 (M-F, 8:30 am-7:00 pm ET) To request retransmission or to order a copy of the summarized article, contact 1-800-452-7773 or e-mail bnaplus@bna.com. For copyright guidelines, go to http://www.bna.com/corp/copyright. Copyright (c) 2001 by The Bureau of National Affairs, Inc. Washington, D.C. 20037. Use of this service is subject to the terms and conditions of the license agreement with BNA. Unauthorized access or distribution is prohibited.\n"
     ]
    }
   ],
   "source": [
    "print(\"Loading data...\")\n",
    "train_data_raw, train_labels = load_data(\"data/train.tsv\")\n",
    "test_data_raw, test_labels = load_data(\"data/test.tsv\")\n",
    "print(\"Data loaded\")\n",
    "\n",
    "print(train_data_raw[0])"
   ]
  },
  {
   "cell_type": "code",
   "execution_count": null,
   "id": "fde62984",
   "metadata": {},
   "outputs": [],
   "source": []
  },
  {
   "cell_type": "code",
   "execution_count": 16,
   "id": "4e390f81",
   "metadata": {},
   "outputs": [
    {
     "name": "stdout",
     "output_type": "stream",
     "text": [
      "Processing data...\n",
      "Data processed\n",
      "['received nahou msmbx01v 192 168 110 39 nahou msmbx05v corp enron com microsoft smtpsvc 5 0 2195 1600 fri 29 jun 2001 08 36 10 0500 x mimeole produced microsoft exchange v6 0 4418 65 content class urn content classes message subject fw june 29 bna inc daily labor report mime version 1 0 content type text plain content transfer encoding binary date fri 29 jun 2001 08 36 09 0500 message id 77da52c3fd86904d8209c9750cd310b9c79bb3 nahou msmbx01v corp enron com x ms attach x ms tnef correlator 77da52c3fd86904d8209c9750cd310b9c79bb3 nahou msmbx01v corp enron com thread topic june 29 bna inc daily labor report thread index aceauaybke2kmwxcedwxeabqi mj2qatr4sa hu sylvia sylvia hu enron com acevedo felecia felecia acevedo enron com brown mecole mecole brown enron com cash michelle michelle cash enron com castellano bonne bonne castellano enron com johnson rick rick johnson enron com lynch drew drew c lynch enron com parker gilda gilda parker enron com sullivan kriste kriste sullivan enron com walker simone scott simonescott walker enron com white bonnie bonnie white enron com return path sylvia hu enron com user id enrondlr pw bnaweb22 original message bna highlights bhighlig bna com sent thursday june 28 2001 11 10 pm bna highlights subject june 29 bna inc daily labor report daily labor report highlights table contents june 29 2001 issn 1522 5968 registered web subscribers access full text articles using url link supplied information becoming subscriber signing free web trial available http web bna com call bna customer relations 1 800 372 1033 mon fri 8 30 7 00 pm et highlights c circuit overturns nlrb decision workplace conduct policies california firm two workplace policies barring abusive threatening language restricting solicitation distribution constitute unfair labor practices district columbia circuit rules overturning national labor relations board decision adtranz abb daimler benz transp n inc v nlrb c cir 00 1282 6 26 01 board held workplace conduct policies adtranz abb daimler benz transportation n inc interfered employees exercise rights national labor relations act board ordered second election held determine whether adtranz employees pittsburg calif wanted represented machinists automotive trade district lodge 190 northern california appeals court finds lacks jurisdiction consider adtranz appeal order new election final order court rejects board view ban abusive threatening language unfair labor practice regardless whether actually chilled employees exercise rights judge sentelle finds solicitation distribution rule legal applies conduct working time work place applies across board cannot said discriminate unionization efforts protected activity page aa 1 text e 1 http pubs bna com ip bna dlr nsf id a0a4j5k3h4 http pubs bna com ip bna dlr nsf id a0a4j5e3e4 workplace panic attacks render employee unqualified ada former customer service worker wisconsin power company fired panic attacks work likely stemmed head injury unable establish discharge illegal americans disabilities act seventh circuit rules emerson v northern states power co 7th cir 00 3746 6 26 01 loretta emerson failed show qualified individual act given anxiety attacks could interfere ability answer customer phone calls gas electricity emergencies judge bauer finds affirming summary judgment northern states power co bauer also finds emerson posed direct threat employer job required prompt accurate handling emergencies gas leaks downed power lines could pose significant danger public page 8 http pubs bna com ip bna dlr nsf id a0a4j5q2p6 uan delegates vote unanimously affiliate afl cio delegates national labor assembly united american nurses labor arm american nurses association unanimously vote affiliate afl cio goes planned affiliation 100 000 member union become effective july 1 however appears one hurdle may need cleared affiliation works year becomes reality ana house delegates scheduled vote june 30 bylaw change would require state nurses association engages collective bargaining member uan within four years condition afl cio granting charter unclear whether bylaw change pass happens affiliation agreement page b 1 http pubs bna com ip bna dlr nsf id a0a4j5j7f6 new york city partly immune bias law court finds case first impression federal trial court overturns jury 1 million sexual harassment punitive damages award new york city explicitly waive sovereign immunity punitive damages city human rights ordinance katt v new york city n 95 civ 8283 gel 6 19 01 rejecting defendants post verdict motions however judge lynch u district court southern district new york upholds jury award 400 000 compensatory damages court rejects city affirmative defense plaintiff alli katt failed take advantage new york police department complaint process finding intimidated explicit implicit pressure court also rejects city late raised challenge timeliness complaint page 1 http pubs bna com ip bna dlr nsf id a0a4j4v7g9 hoffa leedham nominated candidates teamsters president noisy orderly session international brotherhood teamsters convention june 28 incumbent president james p hoffa challenger tom leedham nominated union top office also nominated current ibt secretary treasurer tom keegel leedham running mate tom gilmartin head ibt local 559 connecticut delegate voting occur late june 28 determine candidates received requisite 5 percent support names placed ballot fall election among union 1 4 million members hoffa receive 5 percent delegates votes foregone conclusion given overwhelming support among 1 700 delegates voice votes various resolutions constitutional amendments appear show leedham support hundred delegates second challenge hoffa union presidency however leedham members campaign appear confident get votes necessary placed ballot members leedham slate earlier received votes necessary placed ballot page c 1 http pubs bna com ip bna dlr nsf id a0a4j5g8z1 osha readies mandatory employer survey distribution week july 2 signal launch occupational safety health administration annual mandatory survey 80 000 employers nationwide gather injury illness data better target high hazard employers agency however include construction employers upcoming survey 2001 survey program improves osha ability identify target efforts hazardous workplaces acting osha administrator r davis layne says survey requests calendar year 2000 data osha inspections based 2000 data launched january february 2002 osha spokesman says employers asked supply figures average employment hours worked summary job related injuries illnesses occurred work sites 2000 agency says surveys must returned even surveyed employer recorded occupational injuries illnesses 2000 agency says page 1 http pubs bna com ip bna dlr nsf id a0a4j5h0x6 today events gdp second revision gross domestic product first quarter released 8 30 commerce department also news layoffs reflecting weakened labor market number mass layoff events number workers involved significantly higher first five months year period 2000 layoff events reported may alone involved total 155 759 workers page 1 http pubs bna com ip bna dlr nsf id a0a4j5j8p4 unemployment insurance new ui claims filed state agencies fell third consecutive week 16 000 seasonally adjusted total 388 000 week ended june 23 page 6 http pubs bna com ip bna dlr nsf id a0a4j5h5h2 health care employees several factors combining constrain current supply nurses united states key factor job dissatisfaction according general accounting office page 5 http pubs bna com ip bna dlr nsf id a0a4j5c8p3 entertainment members six unions representing 25 000 workers walt disney world orlando fla scheduled vote july 6 new three year contract walt disney world co page 6 http pubs bna com ip bna dlr nsf id a0a4j5m9f3 text unfair labor practices district columbia circuit decision adtranz abb daimler benz transportation n inc v nlrb page e 1 http pubs bna com ip bna dlr nsf id a0a4j5e3e4 table contents leading news unfair labor practices overturning nlrb c circuit finds california firm workplace policies barring abusive threatening language restricting solicitation distribution constitute unfair labor practices page aa 1 text e 1 http pubs bna com ip bna dlr nsf id a0a4j5k3h4 http pubs bna com ip bna dlr nsf id a0a4j5e3e4 news disabilities seventh circuit rules former customer service worker wisconsin power company fired panic attacks work likely related head injury failed establish qualified individual ada page 8 http pubs bna com ip bna dlr nsf id a0a4j5q2p6 discrimination house judiciary committee expects vote bill h r 7 would allow religious organizations compete federal grants including proposed amendment panel chairman would narrow ability organizations discriminate employment page 12 http pubs bna com ip bna dlr nsf id a0a4j5m7q5 economic outlook ucla anderson forecast finds california facing troublesome period since early 1990s predicts sharply lower growth least 2002 page 3 http pubs bna com ip bna dlr nsf id a0a4j4m8v2 entertainment members six unions representing 25 000 workers vote july 6 new three year contract walt disney world co page 6 http pubs bna com ip bna dlr nsf id a0a4j5m9f3 health care senate democrats prevail amendment challenges patients bill rights legislation prospects wrapping work bill close senate business night appear dim page 10 http pubs bna com ip bna dlr nsf id a0a4j5v0u5 health care employees gao cites job dissatisfaction top among several factors combining constrain current supply nurses united states page 5 http pubs bna com ip bna dlr nsf id a0a4j5c8p3 help wanted ads conference board finds demand labor declined may help wanted advertising index fell 5 percentage points previous month 60 percent page 5 http pubs bna com ip bna dlr nsf id a0a4j5j9t7 safety health official says labor department go forward clinton administration rule changing way 1 3 million worksites required record employee injuries illnesses page 9 http pubs bna com ip bna dlr nsf id a0a4j5r0g7 osha announces july 2 launch annual mandatory survey gathering injury illness data 80 000 employers better target high hazard employers page 1 http pubs bna com ip bna dlr nsf id a0a4j5h0x6 study finds consequences feeling overworked affect employees job performance lead poorer health page 6 http pubs bna com ip bna dlr nsf id a0a4j5n9r1 sex discrimination seventh circuit affirms grant summary judgment employer female manager passed promotion transferred another facility finding failed establish similarly situated male treated favorably page 4 http pubs bna com ip bna dlr nsf id a0a4j4g0q8 sexual harassment federal judge overturns jury award 1 million punitive damages new york city city explicitly waive sovereign immunity human rights ordinance page 1 http pubs bna com ip bna dlr nsf id a0a4j4v7g9 steel geneva steel united steelworkers reach tentative one year contract covering 1 500 workers company vineyard utah mill page 13 http pubs bna com ip bna dlr nsf id a0a4j5g8h7 trade letter president bush twenty five house democrats denounce direction house gop leadership administration taking trade page 7 http pubs bna com ip bna dlr nsf id a0a4j5q2j2 workforce reductions john deere co announces plans cut salaried workforce united states 8 percent 1 250 jobs page 13 http pubs bna com ip bna dlr nsf id a0a4j5d1v8 special report health care employees delegates second annual national labor assembly united american nurses labor arm american nurses association vote unanimously affiliate afl cio page b 1 http pubs bna com ip bna dlr nsf id a0a4j5j7f6 convention report teamsters ibt delegates nominate incumbent president james p hoffa challenger tom leedham union top office noisy orderly session page c 1 http pubs bna com ip bna dlr nsf id a0a4j5g8z1 economic news layoffs labor department bureau labor statistics reports number mass layoff events number workers involved significantly higher first five months year period last year reflecting weakened labor market page 1 http pubs bna com ip bna dlr nsf id a0a4j5j8p4 unemployment insurance labor department employment training administration reports new unemployment insurance claims filed state agencies fell third consecutive week 16 000 seasonally adjusted total 388 000 week ended june 23 page 6 http pubs bna com ip bna dlr nsf id a0a4j5h5h2 text unfair labor practices district columbia circuit decision adtranz abb daimler benz transportation n inc v nlrb page e 1 http pubs bna com ip bna dlr nsf id a0a4j5e3e4 table cases adtranz abb daimler benz transp n inc v nlrb c cir page aa 1 text e 1 http pubs bna com ip bna dlr nsf id a0a4j5k3h4 http pubs bna com ip bna dlr nsf id a0a4j5e3e4 emerson v northern states power co 7th cir page 8 http pubs bna com ip bna dlr nsf id a0a4j5q2p6 hoffman dombrowski v arlington int l racecourse inc 7th cir page 4 http pubs bna com ip bna dlr nsf id a0a4j4g0q8 katt v new york city n page 1 http pubs bna com ip bna dlr nsf id a0a4j4v7g9 daily labor report issn 1522 5968 highlights published daily bureau national affairs inc 1231 25th st nw washington dc 20037 account information changes contact 1 800 372 1033 f 8 30 7 00 pm et request retransmission order copy summarized article contact 1 800 452 7773 e mail bnaplus bna com copyright guidelines go http www bna com corp copyright copyright c 2001 bureau national affairs inc washington c 20037 use service subject terms conditions license agreement bna unauthorized access distribution prohibited']\n"
     ]
    }
   ],
   "source": [
    "print(\"Processing data...\")\n",
    "train_data = preprocess_multiple(train_data_raw)\n",
    "test_data = preprocess_multiple(test_data_raw)\n",
    "print(\"Data processed\")"
   ]
  },
  {
   "cell_type": "code",
   "execution_count": 24,
   "id": "4c5cee30",
   "metadata": {},
   "outputs": [
    {
     "name": "stdout",
     "output_type": "stream",
     "text": [
      "Extracting features...\n",
      "Features Extracted\n"
     ]
    }
   ],
   "source": [
    "print(\"Extracting features...\")\n",
    "train_feature_vectors, test_feature_vectors = extract_features(train_data, test_data)\n",
    "print(\"Features Extracted\")"
   ]
  },
  {
   "cell_type": "code",
   "execution_count": 25,
   "id": "39c1f8dc",
   "metadata": {},
   "outputs": [
    {
     "name": "stdout",
     "output_type": "stream",
     "text": [
      "Training...\n",
      "Classifier trained\n"
     ]
    }
   ],
   "source": [
    "print(\"Training...\")\n",
    "classifier = train(train_feature_vectors, train_labels)\n",
    "print(\"Classifier trained\")"
   ]
  },
  {
   "cell_type": "code",
   "execution_count": 26,
   "id": "43f7b9d9",
   "metadata": {},
   "outputs": [
    {
     "name": "stdout",
     "output_type": "stream",
     "text": [
      "Applying model on test data...\n",
      "Evaluating\n",
      "Recall:\t0.9987439815783965\n",
      "Precision:\t0.9611200644641418\n",
      "F1:\t0.9795708859460014\n",
      "Accuracy:\t0.9759603769026335\n"
     ]
    }
   ],
   "source": [
    "print(\"Applying model on test data...\")\n",
    "predicted_labels = classifier.predict(test_feature_vectors)\n",
    "\n",
    "print(\"Evaluating\")\n",
    "recall, precision, f1, accuracy = evaluate(test_labels, predicted_labels)\n",
    "\n",
    "print(f\"Recall:\\t{recall}\")\n",
    "print(f\"Precision:\\t{precision}\")\n",
    "print(f\"F1:\\t{f1}\")\n",
    "print(f\"Accuracy:\\t{accuracy}\")"
   ]
  },
  {
   "cell_type": "code",
   "execution_count": 29,
   "id": "27c7b706",
   "metadata": {},
   "outputs": [
    {
     "name": "stdout",
     "output_type": "stream",
     "text": [
      "\"Received: from NAHOU-MSMBX01V ([192.168.110.39]) by NAHOU-MSMBX05V.corp.enron.com with Microsoft SMTPSVC(5.0.2195.1600)\n"
     ]
    }
   ],
   "source": [
    "print(train_data_raw[0][0:120])"
   ]
  },
  {
   "cell_type": "code",
   "execution_count": null,
   "id": "64e74788",
   "metadata": {},
   "outputs": [],
   "source": []
  }
 ],
 "metadata": {
  "kernelspec": {
   "display_name": "Python 3",
   "language": "python",
   "name": "python3"
  },
  "language_info": {
   "codemirror_mode": {
    "name": "ipython",
    "version": 3
   },
   "file_extension": ".py",
   "mimetype": "text/x-python",
   "name": "python",
   "nbconvert_exporter": "python",
   "pygments_lexer": "ipython3",
   "version": "3.8.8"
  }
 },
 "nbformat": 4,
 "nbformat_minor": 5
}

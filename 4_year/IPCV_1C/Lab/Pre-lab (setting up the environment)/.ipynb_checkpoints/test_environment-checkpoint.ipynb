{
 "cells": [
  {
   "cell_type": "markdown",
   "metadata": {
    "deletable": false,
    "editable": false
   },
   "source": [
    "# ELE510 Image Processing with robot vision: LAB - Test the environment "
   ]
  },
  {
   "cell_type": "markdown",
   "metadata": {
    "deletable": false,
    "editable": false
   },
   "source": [
    "<div class=\"alert alert-block alert-info\">\n",
    "Purpose: This jupyter notebook is just for you to test that the environment is set and ready for the various assignments.\n",
    "</div>"
   ]
  },
  {
   "cell_type": "markdown",
   "metadata": {
    "deletable": false,
    "editable": false
   },
   "source": [
    "The following package are necessary for the assignments: \n",
    "- [opencv](https://opencv.org/) \"OpenCV (Open Source Computer Vision Library) is an open source computer vision and machine learning software library\" -  [Documentation](https://opencv.org/opencv-python-free-course/)\n",
    "- [numpy](https://numpy.org/) \"The fundamental  package for scientific computing with Python\" - [Documentation](https://numpy.org/doc/stable/)\n",
    "- [matplotlib](https://matplotlib.org/) \"A comprehensive library for creating static, animated, and interactive visualizations in Python\" - [Documentation](https://matplotlib.org/stable/contents.html)"
   ]
  },
  {
   "cell_type": "markdown",
   "metadata": {
    "deletable": false,
    "editable": false
   },
   "source": [
    "## Numpy "
   ]
  },
  {
   "cell_type": "markdown",
   "metadata": {
    "deletable": false,
    "editable": false
   },
   "source": [
    "NumPy is the fundamental package for scientific computing in Python. It provides routines for fast operations on arrays.\n",
    "\n",
    "<div class=\"alert alert-block alert-danger\">\n",
    "If the following cell returns you an error:\n",
    "    \n",
    "    ModuleNotFoundError: No module named 'np'\n",
    "   \n",
    "Open the Anaconda Prompt and run the following:\n",
    "\n",
    "    pip install numpy\n",
    "    \n",
    "</div>"
   ]
  },
  {
   "cell_type": "code",
   "execution_count": 1,
   "metadata": {},
   "outputs": [],
   "source": [
    "import numpy as np # It is common to import **numpy** under the briefer name **np**"
   ]
  },
  {
   "cell_type": "code",
   "execution_count": 2,
   "metadata": {},
   "outputs": [],
   "source": [
    "m = np.matrix('3 2; 3 4') # create a matrix"
   ]
  },
  {
   "cell_type": "code",
   "execution_count": 3,
   "metadata": {},
   "outputs": [
    {
     "name": "stdout",
     "output_type": "stream",
     "text": [
      "[[3 2]\n",
      " [3 4]]\n"
     ]
    }
   ],
   "source": [
    "# print the matrix\n",
    "print(m) "
   ]
  },
  {
   "cell_type": "code",
   "execution_count": 11,
   "metadata": {},
   "outputs": [
    {
     "name": "stdout",
     "output_type": "stream",
     "text": [
      "(2, 2)\n"
     ]
    }
   ],
   "source": [
    "# print the shape of the matrix\n",
    "print(np.shape(m)) "
   ]
  },
  {
   "cell_type": "markdown",
   "metadata": {
    "deletable": false,
    "editable": false,
    "run_control": {
     "frozen": true
    }
   },
   "source": [
    "<div class=\"alert alert-block alert-success\">\n",
    "The shape of the matrix should be: (2,2)\n",
    "</div>"
   ]
  },
  {
   "cell_type": "code",
   "execution_count": 5,
   "metadata": {
    "deletable": false,
    "editable": false
   },
   "outputs": [
    {
     "name": "stdout",
     "output_type": "stream",
     "text": [
      "3\n",
      "2\n",
      "3\n"
     ]
    }
   ],
   "source": [
    "# print the following values: m(0,0), m(0,1), m(1,0)\n",
    "\n",
    "print(m[0,0])\n",
    "print(m[0,1])\n",
    "print(m[1,0])\n"
   ]
  },
  {
   "cell_type": "markdown",
   "metadata": {
    "deletable": false,
    "editable": false,
    "run_control": {
     "frozen": true
    }
   },
   "source": [
    "<div class=\"alert alert-block alert-success\">\n",
    "The answer should be: 3, 2, 3\n",
    "</div>"
   ]
  },
  {
   "cell_type": "markdown",
   "metadata": {
    "deletable": false,
    "editable": false,
    "run_control": {
     "frozen": true
    }
   },
   "source": [
    "## OpenCV"
   ]
  },
  {
   "cell_type": "markdown",
   "metadata": {
    "deletable": false,
    "editable": false,
    "run_control": {
     "frozen": true
    }
   },
   "source": [
    "OpenCV-Python is a library of Python bindings designed to solve computer vision problems.\n",
    "\n",
    "<div class=\"alert alert-block alert-danger\">\n",
    "If the following cell returns you an error:\n",
    "    \n",
    "    ModuleNotFoundError: No module named 'cv2'\n",
    "   \n",
    "Open the Anaconda Prompt and run the following:\n",
    "\n",
    "    pip install opencv-python\n",
    "    \n",
    "</div>\n"
   ]
  },
  {
   "cell_type": "code",
   "execution_count": 3,
   "metadata": {},
   "outputs": [],
   "source": [
    "# import the opencv-python module\n",
    "import cv2 "
   ]
  },
  {
   "cell_type": "markdown",
   "metadata": {
    "deletable": false,
    "editable": false,
    "run_control": {
     "frozen": true
    }
   },
   "source": [
    "Import an image"
   ]
  },
  {
   "cell_type": "code",
   "execution_count": 4,
   "metadata": {},
   "outputs": [],
   "source": [
    "flag = cv2.COLOR_BGR2RGB \n",
    "\n",
    "# Read the image 'preikestolen.jpg' located in the 'images/' folder with cv2.\n",
    "# Example: \n",
    "# img = cv2.imread(image_path, flag)\n",
    "\n",
    "img = cv2.imread(\"./images/preikestolen.jpg\")\n",
    "\n",
    "# OpenCV uses BGR as its default colour order for images, matplotlib uses RGB. \n",
    "# When you display an image loaded with OpenCV in matplotlib the channels will be back to front.\n",
    "\n",
    "img = cv2.cvtColor(img, flag)"
   ]
  },
  {
   "cell_type": "markdown",
   "metadata": {
    "deletable": false,
    "editable": false,
    "run_control": {
     "frozen": true
    }
   },
   "source": [
    "Print the dimension and other information of the image"
   ]
  },
  {
   "cell_type": "code",
   "execution_count": null,
   "metadata": {},
   "outputs": [],
   "source": [
    "# Display the height, width, number of channels of the image\n",
    "height = img()\n",
    "width = ...\n",
    "channels = ...\n",
    " \n",
    "    \n",
    "print('Image Dimension    : ', ...)\n",
    "print('Image Height       : ', ...)\n",
    "print('Image Width        : ', ...)\n",
    "print('Number of Channels : ', ...)\n",
    "\n",
    "# The answer shoud be like this: \n",
    "\n",
    "# Image Dimension    :  (1064, 1600, 3)\n",
    "# Image Height       :  1064\n",
    "# Image Width        :  1600\n",
    "# Number of Channels :  3"
   ]
  },
  {
   "cell_type": "markdown",
   "metadata": {},
   "source": [
    "## Matplotlib"
   ]
  },
  {
   "cell_type": "markdown",
   "metadata": {
    "deletable": false,
    "editable": false,
    "run_control": {
     "frozen": true
    }
   },
   "source": [
    "Matplotlib is a Python 2D plotting library.\n",
    "\n",
    "\n",
    "<div class=\"alert alert-block alert-danger\">\n",
    "If the following cell returns you an error:\n",
    "    \n",
    "    ModuleNotFoundError: No module named 'plt'\n",
    "   \n",
    "Open the Anaconda Prompt and run the following:\n",
    "\n",
    "    pip install matplotlib\n",
    "    \n",
    "</div>\n"
   ]
  },
  {
   "cell_type": "code",
   "execution_count": null,
   "metadata": {},
   "outputs": [],
   "source": [
    "# We use the matplotlib submodule **pyplot**. Following a widely used convention, we use the `plt` alias\n",
    "import matplotlib.pyplot as plt  "
   ]
  },
  {
   "cell_type": "markdown",
   "metadata": {
    "deletable": false,
    "editable": false,
    "run_control": {
     "frozen": true
    }
   },
   "source": [
    "Dislay the imported image "
   ]
  },
  {
   "cell_type": "code",
   "execution_count": null,
   "metadata": {},
   "outputs": [],
   "source": [
    "plt.imshow(img)\n",
    "plt.xticks([]), plt.yticks([])  # Hides the graph ticks and x / y axis\n",
    "plt.show()"
   ]
  },
  {
   "cell_type": "markdown",
   "metadata": {
    "deletable": false,
    "editable": false,
    "run_control": {
     "frozen": true
    }
   },
   "source": [
    "Display the image in greyscale"
   ]
  },
  {
   "cell_type": "code",
   "execution_count": null,
   "metadata": {},
   "outputs": [],
   "source": [
    "flag = cv2.IMREAD_GRAYSCALE\n",
    "\n",
    "grey_img = ...\n",
    "\n",
    "plt.imshow(grey_img, cmap='gray', vmin=0, vmax=255)\n",
    "plt.xticks([]), plt.yticks([])  # Hides the graph ticks and x / y axis\n",
    "plt.show()"
   ]
  },
  {
   "cell_type": "code",
   "execution_count": null,
   "metadata": {},
   "outputs": [],
   "source": [
    "xs = np.array([0, 1, 2]) # Set x-axis values\n",
    "f = xs**2 # Set the corresponding y values\n",
    "\n",
    "plt.plot(xs, f) # Create a plot\n",
    "plt.show() # Display the plot\n"
   ]
  },
  {
   "cell_type": "markdown",
   "metadata": {
    "deletable": false,
    "editable": false,
    "run_control": {
     "frozen": true
    }
   },
   "source": [
    "Display the array and the images together"
   ]
  },
  {
   "cell_type": "code",
   "execution_count": null,
   "metadata": {},
   "outputs": [],
   "source": [
    "# Display the previous plot and the preikestolen images (color and grayscale) together in the same row.\n",
    "# Hint: use plt.subplot function to show them together\n",
    "\n",
    "plt.figure(figsize=(40, 10))\n",
    "..."
   ]
  },
  {
   "cell_type": "code",
   "execution_count": null,
   "metadata": {},
   "outputs": [],
   "source": []
  }
 ],
 "metadata": {
  "kernelspec": {
   "display_name": "Python 3",
   "language": "python",
   "name": "python3"
  },
  "language_info": {
   "codemirror_mode": {
    "name": "ipython",
    "version": 3
   },
   "file_extension": ".py",
   "mimetype": "text/x-python",
   "name": "python",
   "nbconvert_exporter": "python",
   "pygments_lexer": "ipython3",
   "version": "3.8.8"
  }
 },
 "nbformat": 4,
 "nbformat_minor": 4
}
